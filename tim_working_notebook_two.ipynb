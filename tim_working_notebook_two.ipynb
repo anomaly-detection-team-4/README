{
 "cells": [
  {
   "cell_type": "code",
   "execution_count": 1,
   "id": "f03e192f",
   "metadata": {},
   "outputs": [],
   "source": [
    "import warnings\n",
    "warnings.filterwarnings(\"ignore\")\n",
    "import matplotlib.pyplot as plt\n",
    "\n",
    "import numpy as np\n",
    "import pandas as pd\n",
    "import seaborn as sns\n",
    "import env\n",
    "import joint_prepare"
   ]
  },
  {
   "cell_type": "code",
   "execution_count": 2,
   "id": "f258705c",
   "metadata": {},
   "outputs": [],
   "source": [
    "url = f'mysql+pymysql://{env.user}:{env.password}@{env.host}/curriculum_logs'\n",
    "query = '''\n",
    "Select * from logs\n",
    "left join cohorts on logs.cohort_id = cohorts.id\n",
    "ORDER BY date ASC, time ASC;\n",
    "'''\n",
    "df = pd.read_sql(query, url)"
   ]
  },
  {
   "cell_type": "code",
   "execution_count": 4,
   "id": "632fe9c3",
   "metadata": {},
   "outputs": [],
   "source": [
    "df,df_admin = joint_prepare.prepare_logs(df )"
   ]
  },
  {
   "cell_type": "code",
   "execution_count": 5,
   "id": "dbfacc1c",
   "metadata": {},
   "outputs": [
    {
     "data": {
      "text/html": [
       "<div>\n",
       "<style scoped>\n",
       "    .dataframe tbody tr th:only-of-type {\n",
       "        vertical-align: middle;\n",
       "    }\n",
       "\n",
       "    .dataframe tbody tr th {\n",
       "        vertical-align: top;\n",
       "    }\n",
       "\n",
       "    .dataframe thead th {\n",
       "        text-align: right;\n",
       "    }\n",
       "</style>\n",
       "<table border=\"1\" class=\"dataframe\">\n",
       "  <thead>\n",
       "    <tr style=\"text-align: right;\">\n",
       "      <th></th>\n",
       "      <th>date</th>\n",
       "      <th>time</th>\n",
       "      <th>path</th>\n",
       "      <th>user_id</th>\n",
       "      <th>cohort_id</th>\n",
       "      <th>ip</th>\n",
       "      <th>name</th>\n",
       "      <th>start_date</th>\n",
       "      <th>end_date</th>\n",
       "      <th>created_at</th>\n",
       "      <th>program_id</th>\n",
       "      <th>primary_topic</th>\n",
       "      <th>subtopic</th>\n",
       "      <th>tertiary</th>\n",
       "    </tr>\n",
       "  </thead>\n",
       "  <tbody>\n",
       "    <tr>\n",
       "      <th>0</th>\n",
       "      <td>2018-01-26</td>\n",
       "      <td>09:55:03</td>\n",
       "      <td>/</td>\n",
       "      <td>1</td>\n",
       "      <td>8.0</td>\n",
       "      <td>97.105.19.61</td>\n",
       "      <td>Hampton</td>\n",
       "      <td>2015-09-22</td>\n",
       "      <td>2016-02-06</td>\n",
       "      <td>2016-06-14 19:52:26</td>\n",
       "      <td>1.0</td>\n",
       "      <td></td>\n",
       "      <td></td>\n",
       "      <td>None</td>\n",
       "    </tr>\n",
       "    <tr>\n",
       "      <th>1</th>\n",
       "      <td>2018-01-26</td>\n",
       "      <td>09:56:02</td>\n",
       "      <td>java-ii</td>\n",
       "      <td>1</td>\n",
       "      <td>8.0</td>\n",
       "      <td>97.105.19.61</td>\n",
       "      <td>Hampton</td>\n",
       "      <td>2015-09-22</td>\n",
       "      <td>2016-02-06</td>\n",
       "      <td>2016-06-14 19:52:26</td>\n",
       "      <td>1.0</td>\n",
       "      <td>java-ii</td>\n",
       "      <td>None</td>\n",
       "      <td>None</td>\n",
       "    </tr>\n",
       "    <tr>\n",
       "      <th>2</th>\n",
       "      <td>2018-01-26</td>\n",
       "      <td>09:56:05</td>\n",
       "      <td>java-ii/object-oriented-programming</td>\n",
       "      <td>1</td>\n",
       "      <td>8.0</td>\n",
       "      <td>97.105.19.61</td>\n",
       "      <td>Hampton</td>\n",
       "      <td>2015-09-22</td>\n",
       "      <td>2016-02-06</td>\n",
       "      <td>2016-06-14 19:52:26</td>\n",
       "      <td>1.0</td>\n",
       "      <td>java-ii</td>\n",
       "      <td>object-oriented-programming</td>\n",
       "      <td>None</td>\n",
       "    </tr>\n",
       "    <tr>\n",
       "      <th>3</th>\n",
       "      <td>2018-01-26</td>\n",
       "      <td>09:56:06</td>\n",
       "      <td>slides/object_oriented_programming</td>\n",
       "      <td>1</td>\n",
       "      <td>8.0</td>\n",
       "      <td>97.105.19.61</td>\n",
       "      <td>Hampton</td>\n",
       "      <td>2015-09-22</td>\n",
       "      <td>2016-02-06</td>\n",
       "      <td>2016-06-14 19:52:26</td>\n",
       "      <td>1.0</td>\n",
       "      <td>slides</td>\n",
       "      <td>object_oriented_programming</td>\n",
       "      <td>None</td>\n",
       "    </tr>\n",
       "    <tr>\n",
       "      <th>4</th>\n",
       "      <td>2018-01-26</td>\n",
       "      <td>09:56:24</td>\n",
       "      <td>javascript-i/conditionals</td>\n",
       "      <td>2</td>\n",
       "      <td>22.0</td>\n",
       "      <td>97.105.19.61</td>\n",
       "      <td>Teddy</td>\n",
       "      <td>2018-01-08</td>\n",
       "      <td>2018-05-17</td>\n",
       "      <td>2018-01-08 13:59:10</td>\n",
       "      <td>2.0</td>\n",
       "      <td>javascript-i</td>\n",
       "      <td>conditionals</td>\n",
       "      <td>None</td>\n",
       "    </tr>\n",
       "  </tbody>\n",
       "</table>\n",
       "</div>"
      ],
      "text/plain": [
       "         date      time                                 path  user_id  \\\n",
       "0  2018-01-26  09:55:03                                    /        1   \n",
       "1  2018-01-26  09:56:02                              java-ii        1   \n",
       "2  2018-01-26  09:56:05  java-ii/object-oriented-programming        1   \n",
       "3  2018-01-26  09:56:06   slides/object_oriented_programming        1   \n",
       "4  2018-01-26  09:56:24            javascript-i/conditionals        2   \n",
       "\n",
       "   cohort_id            ip     name  start_date    end_date  \\\n",
       "0        8.0  97.105.19.61  Hampton  2015-09-22  2016-02-06   \n",
       "1        8.0  97.105.19.61  Hampton  2015-09-22  2016-02-06   \n",
       "2        8.0  97.105.19.61  Hampton  2015-09-22  2016-02-06   \n",
       "3        8.0  97.105.19.61  Hampton  2015-09-22  2016-02-06   \n",
       "4       22.0  97.105.19.61    Teddy  2018-01-08  2018-05-17   \n",
       "\n",
       "            created_at  program_id primary_topic                     subtopic  \\\n",
       "0  2016-06-14 19:52:26         1.0                                              \n",
       "1  2016-06-14 19:52:26         1.0       java-ii                         None   \n",
       "2  2016-06-14 19:52:26         1.0       java-ii  object-oriented-programming   \n",
       "3  2016-06-14 19:52:26         1.0        slides  object_oriented_programming   \n",
       "4  2018-01-08 13:59:10         2.0  javascript-i                 conditionals   \n",
       "\n",
       "  tertiary  \n",
       "0     None  \n",
       "1     None  \n",
       "2     None  \n",
       "3     None  \n",
       "4     None  "
      ]
     },
     "execution_count": 5,
     "metadata": {},
     "output_type": "execute_result"
    }
   ],
   "source": [
    "df.head()"
   ]
  },
  {
   "cell_type": "code",
   "execution_count": null,
   "id": "24445b62",
   "metadata": {},
   "outputs": [],
   "source": [
    "g = sns.catplot(x=\"name\", hue=\"program_id\",\n",
    "                data=df, kind=\"count\",\n",
    "                height=8, aspect=1);"
   ]
  },
  {
   "cell_type": "markdown",
   "id": "93fc531f",
   "metadata": {},
   "source": [
    "Are there students who, when active, hardly access the curriculum? If so, what information do you have about these students?\n",
    "boolean column showing whether row accessed path in between start/end date of student (user id, being unique)"
   ]
  },
  {
   "cell_type": "code",
   "execution_count": null,
   "id": "57e59fcd",
   "metadata": {},
   "outputs": [],
   "source": [
    "pd.set_option('display.max_rows', None)\n",
    "pd.set_option('display.max_columns', None)\n",
    "pd.set_option('display.width', None)\n",
    "pd.set_option('display.max_colwidth', -1)"
   ]
  },
  {
   "cell_type": "code",
   "execution_count": 6,
   "id": "1456f80d",
   "metadata": {
    "scrolled": false
   },
   "outputs": [
    {
     "data": {
      "text/html": [
       "<div>\n",
       "<style scoped>\n",
       "    .dataframe tbody tr th:only-of-type {\n",
       "        vertical-align: middle;\n",
       "    }\n",
       "\n",
       "    .dataframe tbody tr th {\n",
       "        vertical-align: top;\n",
       "    }\n",
       "\n",
       "    .dataframe thead th {\n",
       "        text-align: right;\n",
       "    }\n",
       "</style>\n",
       "<table border=\"1\" class=\"dataframe\">\n",
       "  <thead>\n",
       "    <tr style=\"text-align: right;\">\n",
       "      <th></th>\n",
       "      <th>date</th>\n",
       "      <th>time</th>\n",
       "      <th>path</th>\n",
       "      <th>user_id</th>\n",
       "      <th>cohort_id</th>\n",
       "      <th>ip</th>\n",
       "      <th>name</th>\n",
       "      <th>start_date</th>\n",
       "      <th>end_date</th>\n",
       "      <th>created_at</th>\n",
       "      <th>program_id</th>\n",
       "      <th>primary_topic</th>\n",
       "      <th>subtopic</th>\n",
       "      <th>tertiary</th>\n",
       "    </tr>\n",
       "  </thead>\n",
       "  <tbody>\n",
       "    <tr>\n",
       "      <th>0</th>\n",
       "      <td>2018-01-26</td>\n",
       "      <td>09:55:03</td>\n",
       "      <td>/</td>\n",
       "      <td>1</td>\n",
       "      <td>8.0</td>\n",
       "      <td>97.105.19.61</td>\n",
       "      <td>Hampton</td>\n",
       "      <td>2015-09-22</td>\n",
       "      <td>2016-02-06</td>\n",
       "      <td>2016-06-14 19:52:26</td>\n",
       "      <td>1.0</td>\n",
       "      <td></td>\n",
       "      <td></td>\n",
       "      <td>None</td>\n",
       "    </tr>\n",
       "    <tr>\n",
       "      <th>1</th>\n",
       "      <td>2018-01-26</td>\n",
       "      <td>09:56:02</td>\n",
       "      <td>java-ii</td>\n",
       "      <td>1</td>\n",
       "      <td>8.0</td>\n",
       "      <td>97.105.19.61</td>\n",
       "      <td>Hampton</td>\n",
       "      <td>2015-09-22</td>\n",
       "      <td>2016-02-06</td>\n",
       "      <td>2016-06-14 19:52:26</td>\n",
       "      <td>1.0</td>\n",
       "      <td>java-ii</td>\n",
       "      <td>None</td>\n",
       "      <td>None</td>\n",
       "    </tr>\n",
       "  </tbody>\n",
       "</table>\n",
       "</div>"
      ],
      "text/plain": [
       "         date      time     path  user_id  cohort_id            ip     name  \\\n",
       "0  2018-01-26  09:55:03        /        1        8.0  97.105.19.61  Hampton   \n",
       "1  2018-01-26  09:56:02  java-ii        1        8.0  97.105.19.61  Hampton   \n",
       "\n",
       "   start_date    end_date           created_at  program_id primary_topic  \\\n",
       "0  2015-09-22  2016-02-06  2016-06-14 19:52:26         1.0                 \n",
       "1  2015-09-22  2016-02-06  2016-06-14 19:52:26         1.0       java-ii   \n",
       "\n",
       "  subtopic tertiary  \n",
       "0              None  \n",
       "1     None     None  "
      ]
     },
     "execution_count": 6,
     "metadata": {},
     "output_type": "execute_result"
    }
   ],
   "source": [
    "df.head(2)"
   ]
  },
  {
   "cell_type": "markdown",
   "id": "41d31232",
   "metadata": {},
   "source": [
    "- filter out for active students by comparing the date of the hit to a date between the start and end dates"
   ]
  },
  {
   "cell_type": "code",
   "execution_count": 7,
   "id": "940d03f6",
   "metadata": {
    "scrolled": true
   },
   "outputs": [],
   "source": [
    "active_students = df[(df.date <= df.end_date)|(df.date >= df.start_date)]"
   ]
  },
  {
   "cell_type": "code",
   "execution_count": 8,
   "id": "eaf3671f",
   "metadata": {
    "scrolled": false
   },
   "outputs": [
    {
     "data": {
      "text/plain": [
       "count      911.000000\n",
       "mean       930.108672\n",
       "std       1236.014277\n",
       "min          1.000000\n",
       "25%        193.000000\n",
       "50%        697.000000\n",
       "75%       1298.500000\n",
       "max      17913.000000\n",
       "Name: user_id, dtype: float64"
      ]
     },
     "execution_count": 8,
     "metadata": {},
     "output_type": "execute_result"
    }
   ],
   "source": [
    "#describe value counts of user_id, shows hits\n",
    "active_students.user_id.value_counts().describe()"
   ]
  },
  {
   "cell_type": "markdown",
   "id": "da73d630",
   "metadata": {},
   "source": [
    "- because the user_id is used on multiple rows, set it as index so it can be explored"
   ]
  },
  {
   "cell_type": "code",
   "execution_count": 9,
   "id": "0ea983d4",
   "metadata": {
    "scrolled": true
   },
   "outputs": [],
   "source": [
    "active_students = active_students.set_index('user_id')"
   ]
  },
  {
   "cell_type": "code",
   "execution_count": 10,
   "id": "39fce389",
   "metadata": {
    "scrolled": true
   },
   "outputs": [
    {
     "data": {
      "text/html": [
       "<div>\n",
       "<style scoped>\n",
       "    .dataframe tbody tr th:only-of-type {\n",
       "        vertical-align: middle;\n",
       "    }\n",
       "\n",
       "    .dataframe tbody tr th {\n",
       "        vertical-align: top;\n",
       "    }\n",
       "\n",
       "    .dataframe thead th {\n",
       "        text-align: right;\n",
       "    }\n",
       "</style>\n",
       "<table border=\"1\" class=\"dataframe\">\n",
       "  <thead>\n",
       "    <tr style=\"text-align: right;\">\n",
       "      <th></th>\n",
       "      <th>date</th>\n",
       "      <th>time</th>\n",
       "      <th>path</th>\n",
       "      <th>cohort_id</th>\n",
       "      <th>ip</th>\n",
       "      <th>name</th>\n",
       "      <th>start_date</th>\n",
       "      <th>end_date</th>\n",
       "      <th>created_at</th>\n",
       "      <th>program_id</th>\n",
       "      <th>primary_topic</th>\n",
       "      <th>subtopic</th>\n",
       "      <th>tertiary</th>\n",
       "    </tr>\n",
       "    <tr>\n",
       "      <th>user_id</th>\n",
       "      <th></th>\n",
       "      <th></th>\n",
       "      <th></th>\n",
       "      <th></th>\n",
       "      <th></th>\n",
       "      <th></th>\n",
       "      <th></th>\n",
       "      <th></th>\n",
       "      <th></th>\n",
       "      <th></th>\n",
       "      <th></th>\n",
       "      <th></th>\n",
       "      <th></th>\n",
       "    </tr>\n",
       "  </thead>\n",
       "  <tbody>\n",
       "    <tr>\n",
       "      <th>1</th>\n",
       "      <td>2018-01-26</td>\n",
       "      <td>09:55:03</td>\n",
       "      <td>/</td>\n",
       "      <td>8.0</td>\n",
       "      <td>97.105.19.61</td>\n",
       "      <td>Hampton</td>\n",
       "      <td>2015-09-22</td>\n",
       "      <td>2016-02-06</td>\n",
       "      <td>2016-06-14 19:52:26</td>\n",
       "      <td>1.0</td>\n",
       "      <td></td>\n",
       "      <td></td>\n",
       "      <td>None</td>\n",
       "    </tr>\n",
       "    <tr>\n",
       "      <th>1</th>\n",
       "      <td>2018-01-26</td>\n",
       "      <td>09:56:02</td>\n",
       "      <td>java-ii</td>\n",
       "      <td>8.0</td>\n",
       "      <td>97.105.19.61</td>\n",
       "      <td>Hampton</td>\n",
       "      <td>2015-09-22</td>\n",
       "      <td>2016-02-06</td>\n",
       "      <td>2016-06-14 19:52:26</td>\n",
       "      <td>1.0</td>\n",
       "      <td>java-ii</td>\n",
       "      <td>None</td>\n",
       "      <td>None</td>\n",
       "    </tr>\n",
       "    <tr>\n",
       "      <th>1</th>\n",
       "      <td>2018-01-26</td>\n",
       "      <td>09:56:05</td>\n",
       "      <td>java-ii/object-oriented-programming</td>\n",
       "      <td>8.0</td>\n",
       "      <td>97.105.19.61</td>\n",
       "      <td>Hampton</td>\n",
       "      <td>2015-09-22</td>\n",
       "      <td>2016-02-06</td>\n",
       "      <td>2016-06-14 19:52:26</td>\n",
       "      <td>1.0</td>\n",
       "      <td>java-ii</td>\n",
       "      <td>object-oriented-programming</td>\n",
       "      <td>None</td>\n",
       "    </tr>\n",
       "    <tr>\n",
       "      <th>1</th>\n",
       "      <td>2018-01-26</td>\n",
       "      <td>09:56:06</td>\n",
       "      <td>slides/object_oriented_programming</td>\n",
       "      <td>8.0</td>\n",
       "      <td>97.105.19.61</td>\n",
       "      <td>Hampton</td>\n",
       "      <td>2015-09-22</td>\n",
       "      <td>2016-02-06</td>\n",
       "      <td>2016-06-14 19:52:26</td>\n",
       "      <td>1.0</td>\n",
       "      <td>slides</td>\n",
       "      <td>object_oriented_programming</td>\n",
       "      <td>None</td>\n",
       "    </tr>\n",
       "    <tr>\n",
       "      <th>2</th>\n",
       "      <td>2018-01-26</td>\n",
       "      <td>09:56:24</td>\n",
       "      <td>javascript-i/conditionals</td>\n",
       "      <td>22.0</td>\n",
       "      <td>97.105.19.61</td>\n",
       "      <td>Teddy</td>\n",
       "      <td>2018-01-08</td>\n",
       "      <td>2018-05-17</td>\n",
       "      <td>2018-01-08 13:59:10</td>\n",
       "      <td>2.0</td>\n",
       "      <td>javascript-i</td>\n",
       "      <td>conditionals</td>\n",
       "      <td>None</td>\n",
       "    </tr>\n",
       "  </tbody>\n",
       "</table>\n",
       "</div>"
      ],
      "text/plain": [
       "               date      time                                 path  cohort_id  \\\n",
       "user_id                                                                         \n",
       "1        2018-01-26  09:55:03                                    /        8.0   \n",
       "1        2018-01-26  09:56:02                              java-ii        8.0   \n",
       "1        2018-01-26  09:56:05  java-ii/object-oriented-programming        8.0   \n",
       "1        2018-01-26  09:56:06   slides/object_oriented_programming        8.0   \n",
       "2        2018-01-26  09:56:24            javascript-i/conditionals       22.0   \n",
       "\n",
       "                   ip     name  start_date    end_date           created_at  \\\n",
       "user_id                                                                       \n",
       "1        97.105.19.61  Hampton  2015-09-22  2016-02-06  2016-06-14 19:52:26   \n",
       "1        97.105.19.61  Hampton  2015-09-22  2016-02-06  2016-06-14 19:52:26   \n",
       "1        97.105.19.61  Hampton  2015-09-22  2016-02-06  2016-06-14 19:52:26   \n",
       "1        97.105.19.61  Hampton  2015-09-22  2016-02-06  2016-06-14 19:52:26   \n",
       "2        97.105.19.61    Teddy  2018-01-08  2018-05-17  2018-01-08 13:59:10   \n",
       "\n",
       "         program_id primary_topic                     subtopic tertiary  \n",
       "user_id                                                                  \n",
       "1               1.0                                                None  \n",
       "1               1.0       java-ii                         None     None  \n",
       "1               1.0       java-ii  object-oriented-programming     None  \n",
       "1               1.0        slides  object_oriented_programming     None  \n",
       "2               2.0  javascript-i                 conditionals     None  "
      ]
     },
     "execution_count": 10,
     "metadata": {},
     "output_type": "execute_result"
    }
   ],
   "source": [
    "active_students.head()"
   ]
  },
  {
   "cell_type": "markdown",
   "id": "82de484a",
   "metadata": {},
   "source": [
    "- simplify dataframe, drop unused columns"
   ]
  },
  {
   "cell_type": "code",
   "execution_count": 11,
   "id": "6b40f24a",
   "metadata": {},
   "outputs": [],
   "source": [
    "active_students = active_students.drop(columns=['start_date','end_date','created_at','date','time'])"
   ]
  },
  {
   "cell_type": "code",
   "execution_count": 12,
   "id": "4b34cec7",
   "metadata": {
    "scrolled": true
   },
   "outputs": [
    {
     "data": {
      "text/html": [
       "<div>\n",
       "<style scoped>\n",
       "    .dataframe tbody tr th:only-of-type {\n",
       "        vertical-align: middle;\n",
       "    }\n",
       "\n",
       "    .dataframe tbody tr th {\n",
       "        vertical-align: top;\n",
       "    }\n",
       "\n",
       "    .dataframe thead th {\n",
       "        text-align: right;\n",
       "    }\n",
       "</style>\n",
       "<table border=\"1\" class=\"dataframe\">\n",
       "  <thead>\n",
       "    <tr style=\"text-align: right;\">\n",
       "      <th></th>\n",
       "      <th>path</th>\n",
       "      <th>cohort_id</th>\n",
       "      <th>ip</th>\n",
       "      <th>name</th>\n",
       "      <th>program_id</th>\n",
       "      <th>primary_topic</th>\n",
       "      <th>subtopic</th>\n",
       "      <th>tertiary</th>\n",
       "    </tr>\n",
       "    <tr>\n",
       "      <th>user_id</th>\n",
       "      <th></th>\n",
       "      <th></th>\n",
       "      <th></th>\n",
       "      <th></th>\n",
       "      <th></th>\n",
       "      <th></th>\n",
       "      <th></th>\n",
       "      <th></th>\n",
       "    </tr>\n",
       "  </thead>\n",
       "  <tbody>\n",
       "    <tr>\n",
       "      <th>1</th>\n",
       "      <td>/</td>\n",
       "      <td>8.0</td>\n",
       "      <td>97.105.19.61</td>\n",
       "      <td>Hampton</td>\n",
       "      <td>1.0</td>\n",
       "      <td></td>\n",
       "      <td></td>\n",
       "      <td>None</td>\n",
       "    </tr>\n",
       "    <tr>\n",
       "      <th>1</th>\n",
       "      <td>java-ii</td>\n",
       "      <td>8.0</td>\n",
       "      <td>97.105.19.61</td>\n",
       "      <td>Hampton</td>\n",
       "      <td>1.0</td>\n",
       "      <td>java-ii</td>\n",
       "      <td>None</td>\n",
       "      <td>None</td>\n",
       "    </tr>\n",
       "    <tr>\n",
       "      <th>1</th>\n",
       "      <td>java-ii/object-oriented-programming</td>\n",
       "      <td>8.0</td>\n",
       "      <td>97.105.19.61</td>\n",
       "      <td>Hampton</td>\n",
       "      <td>1.0</td>\n",
       "      <td>java-ii</td>\n",
       "      <td>object-oriented-programming</td>\n",
       "      <td>None</td>\n",
       "    </tr>\n",
       "    <tr>\n",
       "      <th>1</th>\n",
       "      <td>slides/object_oriented_programming</td>\n",
       "      <td>8.0</td>\n",
       "      <td>97.105.19.61</td>\n",
       "      <td>Hampton</td>\n",
       "      <td>1.0</td>\n",
       "      <td>slides</td>\n",
       "      <td>object_oriented_programming</td>\n",
       "      <td>None</td>\n",
       "    </tr>\n",
       "    <tr>\n",
       "      <th>2</th>\n",
       "      <td>javascript-i/conditionals</td>\n",
       "      <td>22.0</td>\n",
       "      <td>97.105.19.61</td>\n",
       "      <td>Teddy</td>\n",
       "      <td>2.0</td>\n",
       "      <td>javascript-i</td>\n",
       "      <td>conditionals</td>\n",
       "      <td>None</td>\n",
       "    </tr>\n",
       "  </tbody>\n",
       "</table>\n",
       "</div>"
      ],
      "text/plain": [
       "                                        path  cohort_id            ip  \\\n",
       "user_id                                                                 \n",
       "1                                          /        8.0  97.105.19.61   \n",
       "1                                    java-ii        8.0  97.105.19.61   \n",
       "1        java-ii/object-oriented-programming        8.0  97.105.19.61   \n",
       "1         slides/object_oriented_programming        8.0  97.105.19.61   \n",
       "2                  javascript-i/conditionals       22.0  97.105.19.61   \n",
       "\n",
       "            name  program_id primary_topic                     subtopic  \\\n",
       "user_id                                                                   \n",
       "1        Hampton         1.0                                              \n",
       "1        Hampton         1.0       java-ii                         None   \n",
       "1        Hampton         1.0       java-ii  object-oriented-programming   \n",
       "1        Hampton         1.0        slides  object_oriented_programming   \n",
       "2          Teddy         2.0  javascript-i                 conditionals   \n",
       "\n",
       "        tertiary  \n",
       "user_id           \n",
       "1           None  \n",
       "1           None  \n",
       "1           None  \n",
       "1           None  \n",
       "2           None  "
      ]
     },
     "execution_count": 12,
     "metadata": {},
     "output_type": "execute_result"
    }
   ],
   "source": [
    "active_students.head()"
   ]
  },
  {
   "cell_type": "markdown",
   "id": "4944ee6f",
   "metadata": {},
   "source": [
    "- utilizing simplified dataframe, we setup where we draw the line for limited use of active students, around 150 hits, below the lower IQR of 193"
   ]
  },
  {
   "cell_type": "code",
   "execution_count": 20,
   "id": "4bb83e1f",
   "metadata": {
    "scrolled": true
   },
   "outputs": [
    {
     "data": {
      "text/plain": [
       "<pandas.core.groupby.generic.DataFrameGroupBy object at 0x000001FAFB413040>"
      ]
     },
     "execution_count": 20,
     "metadata": {},
     "output_type": "execute_result"
    }
   ],
   "source": [
    "active_students[active_students.index.value_counts() <=150].groupby(['user_id','name'],axis=0)"
   ]
  },
  {
   "cell_type": "code",
   "execution_count": null,
   "id": "d3d5871d",
   "metadata": {},
   "outputs": [],
   "source": [
    "temp = pd.DataFrame(active_students[active_students.index.value_counts() <=150].groupby('user_id').name.value_counts())"
   ]
  },
  {
   "cell_type": "code",
   "execution_count": 26,
   "id": "82087016",
   "metadata": {
    "scrolled": true
   },
   "outputs": [
    {
     "data": {
      "text/html": [
       "<div>\n",
       "<style scoped>\n",
       "    .dataframe tbody tr th:only-of-type {\n",
       "        vertical-align: middle;\n",
       "    }\n",
       "\n",
       "    .dataframe tbody tr th {\n",
       "        vertical-align: top;\n",
       "    }\n",
       "\n",
       "    .dataframe thead th {\n",
       "        text-align: right;\n",
       "    }\n",
       "</style>\n",
       "<table border=\"1\" class=\"dataframe\">\n",
       "  <thead>\n",
       "    <tr style=\"text-align: right;\">\n",
       "      <th></th>\n",
       "      <th></th>\n",
       "      <th>name</th>\n",
       "    </tr>\n",
       "    <tr>\n",
       "      <th>user_id</th>\n",
       "      <th>name</th>\n",
       "      <th></th>\n",
       "    </tr>\n",
       "  </thead>\n",
       "  <tbody>\n",
       "    <tr>\n",
       "      <th>13</th>\n",
       "      <th>Teddy</th>\n",
       "      <td>94</td>\n",
       "    </tr>\n",
       "    <tr>\n",
       "      <th>21</th>\n",
       "      <th>Niagara</th>\n",
       "      <td>107</td>\n",
       "    </tr>\n",
       "    <tr>\n",
       "      <th>24</th>\n",
       "      <th>Sequoia</th>\n",
       "      <td>26</td>\n",
       "    </tr>\n",
       "    <tr>\n",
       "      <th>45</th>\n",
       "      <th>Sequoia</th>\n",
       "      <td>65</td>\n",
       "    </tr>\n",
       "    <tr>\n",
       "      <th>46</th>\n",
       "      <th>Teddy</th>\n",
       "      <td>54</td>\n",
       "    </tr>\n",
       "    <tr>\n",
       "      <th>...</th>\n",
       "      <th>...</th>\n",
       "      <td>...</td>\n",
       "    </tr>\n",
       "    <tr>\n",
       "      <th>977</th>\n",
       "      <th>Oberon</th>\n",
       "      <td>86</td>\n",
       "    </tr>\n",
       "    <tr>\n",
       "      <th>978</th>\n",
       "      <th>Oberon</th>\n",
       "      <td>55</td>\n",
       "    </tr>\n",
       "    <tr>\n",
       "      <th>979</th>\n",
       "      <th>Oberon</th>\n",
       "      <td>127</td>\n",
       "    </tr>\n",
       "    <tr>\n",
       "      <th>980</th>\n",
       "      <th>Staff</th>\n",
       "      <td>3</td>\n",
       "    </tr>\n",
       "    <tr>\n",
       "      <th>981</th>\n",
       "      <th>Neptune</th>\n",
       "      <td>42</td>\n",
       "    </tr>\n",
       "  </tbody>\n",
       "</table>\n",
       "<p>201 rows × 1 columns</p>\n",
       "</div>"
      ],
      "text/plain": [
       "                 name\n",
       "user_id name         \n",
       "13      Teddy      94\n",
       "21      Niagara   107\n",
       "24      Sequoia    26\n",
       "45      Sequoia    65\n",
       "46      Teddy      54\n",
       "...               ...\n",
       "977     Oberon     86\n",
       "978     Oberon     55\n",
       "979     Oberon    127\n",
       "980     Staff       3\n",
       "981     Neptune    42\n",
       "\n",
       "[201 rows x 1 columns]"
      ]
     },
     "execution_count": 26,
     "metadata": {},
     "output_type": "execute_result"
    }
   ],
   "source": [
    "temp.sort_index()"
   ]
  },
  {
   "cell_type": "raw",
   "id": "c7e10360",
   "metadata": {},
   "source": []
  },
  {
   "cell_type": "markdown",
   "id": "70afdc86",
   "metadata": {},
   "source": [
    "- Question 3: by filtering the dates between the range of start and end date, we isolated the active students. after some basic analysis, we established a baseline for 'low usage' values that fall below the 25% IQR from there, because each observation has a user_id, and that user_id can show up multiple times, we set the index to the user_id, this allowed us to "
   ]
  },
  {
   "cell_type": "code",
   "execution_count": 28,
   "id": "e0a7b807",
   "metadata": {},
   "outputs": [
    {
     "data": {
      "image/png": "[encoded data removed]",
      "text/plain": [
       "<Figure size 525.75x432 with 1 Axes>"
      ]
     },
     "metadata": {
      "needs_background": "light"
     },
     "output_type": "display_data"
    }
   ],
   "source": [
    "g = sns.catplot(x=\"program_id\", hue=\"name\",\n",
    "                data=active_students, kind=\"count\",\n",
    "                height=6, aspect=1);"
   ]
  },
  {
   "cell_type": "code",
   "execution_count": 29,
   "id": "8c64a911",
   "metadata": {},
   "outputs": [
    {
     "data": {
      "image/png": "[encoded data removed]",
      "text/plain": [
       "<Figure size 496.625x432 with 1 Axes>"
      ]
     },
     "metadata": {
      "needs_background": "light"
     },
     "output_type": "display_data"
    }
   ],
   "source": [
    "g = sns.catplot(x=\"name\", hue=\"program_id\",\n",
    "                data=active_students, kind=\"count\",\n",
    "                height=6, aspect=1);"
   ]
  },
  {
   "cell_type": "code",
   "execution_count": null,
   "id": "3023bd03",
   "metadata": {},
   "outputs": [],
   "source": []
  }
 ],
 "metadata": {
  "kernelspec": {
   "display_name": "Python 3 (ipykernel)",
   "language": "python",
   "name": "python3"
  },
  "language_info": {
   "codemirror_mode": {
    "name": "ipython",
    "version": 3
   },
   "file_extension": ".py",
   "mimetype": "text/x-python",
   "name": "python",
   "nbconvert_exporter": "python",
   "pygments_lexer": "ipython3",
   "version": "3.9.12"
  }
 },
 "nbformat": 4,
 "nbformat_minor": 5
}
